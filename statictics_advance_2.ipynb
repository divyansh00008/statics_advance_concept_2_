{
  "nbformat": 4,
  "nbformat_minor": 0,
  "metadata": {
    "colab": {
      "provenance": []
    },
    "kernelspec": {
      "name": "python3",
      "display_name": "Python 3"
    },
    "language_info": {
      "name": "python"
    }
  },
  "cells": [
    {
      "cell_type": "code",
      "execution_count": null,
      "metadata": {
        "id": "Hyl_QynikYDZ"
      },
      "outputs": [],
      "source": [
        "Question 1: What is hypothesis testing in statistics?"
      ]
    },
    {
      "cell_type": "markdown",
      "source": [
        "ANSWER>>> Definition:\n",
        "Hypothesis testing is a statistical method used to make decisions or inferences about a population based on sample data. It involves testing an assumption (called a hypothesis) regarding a population parameter, such as the mean or proportion, using observed data.\n",
        "\n",
        "Purpose:\n",
        "The purpose of hypothesis testing is to determine whether there is enough evidence in a sample to support a specific claim about a population.\n",
        "\n",
        "Steps in Hypothesis Testing\n",
        "\n",
        "State the Hypotheses:\n",
        "\n",
        "Null Hypothesis (H₀): The assumption that there is no effect or no difference. It represents the status quo.\n",
        "Example: H₀: μ = 50 (The population mean is 50)\n",
        "\n",
        "Alternative Hypothesis (H₁ or Ha): The claim that contradicts the null hypothesis.\n",
        "Example: H₁: μ ≠ 50 (The population mean is not 50)\n",
        "\n",
        "Select the Significance Level (α):\n",
        "\n",
        "The probability of rejecting the null hypothesis when it is actually true (Type I error).\n",
        "\n",
        "Common values: 0.05 (5%), 0.01 (1%)\n",
        "\n",
        "Choose the Appropriate Test:\n",
        "\n",
        "Based on the type of data and population parameters:\n",
        "\n",
        "Z-test: for large samples with known variance\n",
        "\n",
        "T-test: for small samples or unknown variance\n",
        "\n",
        "Chi-square test: for categorical data\n",
        "\n",
        "ANOVA: to compare more than two group means\n",
        "\n",
        "Calculate the Test Statistic:\n",
        "\n",
        "Measure how far the sample statistic deviates from the null hypothesis.\n",
        "\n",
        "Example (Z-test):\n",
        "𝑍\n",
        "=\n",
        "𝑥\n",
        "ˉ\n",
        "−\n",
        "𝜇\n",
        "0\n",
        "𝜎\n",
        "/\n",
        "𝑛\n",
        "Z=\n",
        "σ/\n",
        "n\n",
        "\t​\n",
        "\n",
        "x\n",
        "ˉ\n",
        "−μ\n",
        "0\n",
        "\t​\n",
        "\n",
        "\t​\n",
        "\n",
        "\n",
        "Determine the p-value or Critical Value:\n",
        "\n",
        "p-value: Probability of observing the test statistic under H₀\n",
        "\n",
        "Critical value: The cutoff point for rejecting H₀ at the chosen significance level\n",
        "\n",
        "Make a Decision:\n",
        "\n",
        "If p-value ≤ α, reject H₀ (evidence supports H₁)\n",
        "\n",
        "If p-value > α, fail to reject H₀ (insufficient evidence)\n",
        "\n",
        "Draw a Conclusion:\n",
        "\n",
        "State the result in the context of the problem.\n",
        "\n",
        "Types of Errors\n",
        "\n",
        "Type I Error (α): Rejecting H₀ when it is true\n",
        "\n",
        "Type II Error (β): Failing to reject H₀ when H₁ is true\n",
        "\n",
        "Example\n",
        "\n",
        "Suppose a company claims the average weight of a product is 500g. You take a sample of 30 products and find the mean weight is 495g with a standard deviation of 5g.\n",
        "\n",
        "H₀: μ = 500\n",
        "\n",
        "H₁: μ ≠ 500\n",
        "\n",
        "α = 0.05\n",
        "\n",
        "Test statistic:\n",
        "𝑡\n",
        "=\n",
        "495\n",
        "−\n",
        "500\n",
        "5\n",
        "/\n",
        "30\n",
        "=\n",
        "−\n",
        "5.48\n",
        "t=\n",
        "5/\n",
        "30\n",
        "\t​\n",
        "\n",
        "495−500\n",
        "\t​\n",
        "\n",
        "=−5.48\n",
        "\n",
        "Compare with critical t-value → reject H₀ → conclude the average weight differs from 500g.\n",
        "\n",
        "Importance\n",
        "\n",
        "Helps in making data-driven decisions\n",
        "\n",
        "Widely used in quality control, clinical trials, marketing research, and scientific studies\n",
        "\n",
        "Reduces the risk of wrong conclusions based on random variations"
      ],
      "metadata": {
        "id": "DpNCTMAKkvnk"
      }
    },
    {
      "cell_type": "markdown",
      "source": [
        "Question 2: What is the null hypothesis, and how does it differ from the alternative hypothesis?\n"
      ],
      "metadata": {
        "id": "xhg1Yukjk7CS"
      }
    },
    {
      "cell_type": "markdown",
      "source": [
        "ANSWER>>>Null Hypothesis and Alternative Hypothesis in Statistics\n",
        "\n",
        "1. Definition of Null Hypothesis (H₀):\n",
        "The null hypothesis is a statement that there is no effect, no difference, or no relationship in a population. It represents the status quo or the assumption that any observed effect in the sample is due to random chance.\n",
        "\n",
        "Purpose: It serves as a baseline for statistical testing.\n",
        "\n",
        "Example:\n",
        "\n",
        "A school claims the average score of students in mathematics is 75.\n",
        "\n",
        "H₀: μ = 75 (The population mean score is 75)\n",
        "\n",
        "2. Definition of Alternative Hypothesis (H₁ or Ha):\n",
        "The alternative hypothesis is a statement that contradicts the null hypothesis. It suggests that there is an effect, difference, or relationship in the population.\n",
        "\n",
        "Purpose: It represents what the researcher wants to prove or support using sample data.\n",
        "\n",
        "Example:\n",
        "\n",
        "Using the same school example:\n",
        "\n",
        "H₁: μ ≠ 75 (The population mean score is not 75)\n",
        "\n",
        "Types of Alternative Hypotheses\n",
        "\n",
        "Two-tailed test: H₁: μ ≠ μ₀ (tests for difference in either direction)\n",
        "\n",
        "One-tailed test (right): H₁: μ > μ₀ (tests for increase)\n",
        "\n",
        "One-tailed test (left): H₁: μ < μ₀ (tests for decrease)\n",
        "\n",
        "Relationship in Hypothesis Testing\n",
        "\n",
        "Hypothesis testing always starts by assuming the null hypothesis is true.\n",
        "\n",
        "Data from the sample is used to determine whether there is enough evidence to reject H₀ in favor of H₁.\n",
        "\n",
        "If the evidence is strong (p-value ≤ α), H₀ is rejected. Otherwise, we fail to reject H₀.\n",
        "\n",
        "Example\n",
        "\n",
        "A company claims that their light bulbs last 1000 hours on average.\n",
        "\n",
        "Null Hypothesis (H₀): μ = 1000 (average lifetime is 1000 hours)\n",
        "\n",
        "Alternative Hypothesis (H₁): μ ≠ 1000 (average lifetime is not 1000 hours)\n",
        "\n",
        "If a sample shows a significantly different average lifetime, H₀ will be rejected in favor of H₁.\n",
        "\n",
        "Importance\n",
        "\n",
        "Clearly defines what is being tested\n",
        "\n",
        "Helps avoid bias in statistical analysis\n",
        "\n",
        "Forms the foundation for calculating p-values, confidence intervals, and decision-making\n",
        "\n",
        "Definition: The null hypothesis (H₀) is a statement of no effect, no difference, or no relationship. The alternative hypothesis (H₁) is a statement that there is an effect, a difference, or a relationship.\n",
        "\n",
        "Purpose: H₀ serves as the baseline assumption to test against. H₁ represents what the researcher wants to prove or support.\n",
        "\n",
        "Assumption: H₀ assumes that any observed effect is due to random chance. H₁ assumes that the observed effect is statistically significant.\n",
        "\n",
        "Test Outcome: H₀ can either be rejected or not rejected. H₁ is supported if H₀ is rejected.\n",
        "\n",
        "Symbol: H₀ is denoted as H₀, while the alternative hypothesis is denoted as H₁ or Ha.\n",
        "\n",
        "Example: H₀: The average score of students is 75. H₁: The average score of students is not 75.\n",
        "\n",
        "Relation to Research: H₀ represents the status quo or no-change scenario. H₁ represents the research claim or the effect being investigated."
      ],
      "metadata": {
        "id": "ePSzrmVfk_Me"
      }
    },
    {
      "cell_type": "markdown",
      "source": [
        "Question 3: Explain the significance level in hypothesis testing and its role in deciding the outcome of a test.\n"
      ],
      "metadata": {
        "id": "ixpMhqKAlyO_"
      }
    },
    {
      "cell_type": "markdown",
      "source": [
        "ANSWER>>>>>Significance Level in Hypothesis Testing and Its Role\n",
        "\n",
        "The significance level, often denoted by α (alpha), is a threshold probability used to determine whether the results of a hypothesis test are statistically significant.\n",
        "\n",
        "It represents the probability of making a Type I error, which occurs when the null hypothesis (H₀) is incorrectly rejected even though it is true.\n",
        "\n",
        "Commonly used significance levels are 0.05, 0.01, and 0.10, where 0.05 means a 5% chance of rejecting H₀ when it is actually true.\n",
        "\n",
        "During hypothesis testing, the p-value of the test statistic is compared to the significance level:\n",
        "\n",
        "If p-value ≤ α, the null hypothesis is rejected, indicating that the observed data is unlikely under H₀.\n",
        "\n",
        "If p-value > α, there is not enough evidence to reject H₀, so it is retained.\n",
        "\n",
        "The significance level thus controls the strictness of the test: a smaller α (e.g., 0.01) makes it harder to reject H₀, reducing the risk of false positives but increasing the risk of Type II errors.\n",
        "\n",
        "In essence, the significance level acts as a decision boundary in hypothesis testing, helping researchers decide whether the observed effect is strong enough to conclude that the alternative hypothesis (H₁) is likely true.\n",
        "\n",
        "Choosing the right significance level depends on the context and consequences of errors in the specific study.\n",
        "\n",
        "\n",
        "\n"
      ],
      "metadata": {
        "id": "_7QoCHUNl43-"
      }
    },
    {
      "cell_type": "markdown",
      "source": [
        "QUESTION 4 .What are Type | and Type || errors ?Give example of each."
      ],
      "metadata": {
        "id": "TTngUJcCmL4n"
      }
    },
    {
      "cell_type": "markdown",
      "source": [
        "Type I and Type II Errors in Hypothesis Testing\n",
        "\n",
        "Type I Error:\n",
        "\n",
        "A Type I error occurs when we reject the null hypothesis (H₀) even though it is true.\n",
        "\n",
        "In other words, it is a false positive, detecting an effect or difference that does not actually exist.\n",
        "\n",
        "The probability of committing a Type I error is equal to the significance level (α).\n",
        "\n",
        "Example:\n",
        "Suppose a new drug is tested, and the null hypothesis states that the drug has no effect. If the test concludes that the drug works when in reality it doesn’t, this is a Type I error.\n",
        "\n",
        "Type II Error:\n",
        "\n",
        "A Type II error occurs when we fail to reject the null hypothesis (H₀) even though it is false.\n",
        "\n",
        "In other words, it is a false negative, missing a real effect or difference.\n",
        "\n",
        "The probability of committing a Type II error is denoted by β.\n",
        "\n",
        "Example:\n",
        "Using the same drug trial, if the test concludes that the drug does not work when it actually does, this is a Type II error.\n",
        "\n",
        "Key Point:\n",
        "\n",
        "Type I error = false alarm, detecting something that isn’t there.\n",
        "\n",
        "Type II error = missed detection, failing to detect something that is there.\n",
        "\n",
        "Researchers balance Type I and Type II errors by choosing an appropriate significance level (α) and ensuring sufficient sample size to increase the test’s power."
      ],
      "metadata": {
        "id": "-x2RaZLGmtT8"
      }
    },
    {
      "cell_type": "markdown",
      "source": [
        "Question 5: What is the difference between a Z-test and a T-test? Explain when to use each."
      ],
      "metadata": {
        "id": "DecFEZXzm7vn"
      }
    },
    {
      "cell_type": "markdown",
      "source": [
        "ANSWER>>>>Difference Between Z-test and T-test\n",
        "\n",
        "Definition:\n",
        "\n",
        "Z-test is a statistical test used to determine whether there is a significant difference between sample and population means when the population standard deviation is known or when the sample size is large (n > 30).\n",
        "\n",
        "T-test is a statistical test used to determine whether there is a significant difference between sample and population means when the population standard deviation is unknown and/or the sample size is small (n < 30).\n",
        "\n",
        "Distribution Used:\n",
        "\n",
        "Z-test uses the standard normal (Z) distribution.\n",
        "\n",
        "T-test uses the Student’s t-distribution, which accounts for additional uncertainty due to estimating the standard deviation from the sample.\n",
        "\n",
        "When to Use:\n",
        "\n",
        "Z-test:\n",
        "\n",
        "When population variance is known.\n",
        "\n",
        "Large sample sizes (typically n > 30).\n",
        "\n",
        "Example: Testing if the average height of a city’s population differs from a known national average.\n",
        "\n",
        "T-test:\n",
        "\n",
        "When population variance is unknown.\n",
        "\n",
        "Small sample sizes (n < 30).\n",
        "\n",
        "Example: Testing if the mean weight of a sample of 20 students differs from a hypothesized mean weight.\n",
        "\n",
        "Types:\n",
        "\n",
        "Both tests can be one-sample, two-sample, or paired, depending on the comparison being made.\n",
        "\n",
        "Key Point:\n",
        "\n",
        "Use a Z-test for large samples or known population standard deviation.\n",
        "\n",
        "Use a T-test for small samples or unknown population standard deviation."
      ],
      "metadata": {
        "id": "azdb5XOWnfdE"
      }
    },
    {
      "cell_type": "markdown",
      "source": [
        "Question 6: Write a Python program to generate a binomial distribution with n=10 and p=0.5, then plot its histogram."
      ],
      "metadata": {
        "id": "3Xb1waJPoKJn"
      }
    },
    {
      "cell_type": "code",
      "source": [
        "import numpy as np\n",
        "import matplotlib.pyplot as plt\n",
        "\n",
        "# Parameters\n",
        "n = 10      # number of trials\n",
        "p = 0.5     # probability of success\n",
        "size = 1000 # number of random samples\n",
        "\n",
        "# Generate binomial distribution\n",
        "data = np.random.binomial(n, p, size)\n",
        "\n",
        "# Plot histogram\n",
        "plt.hist(data, bins=range(0, n+2), edgecolor='black', alpha=0.7)\n",
        "plt.title(\"Binomial Distribution (n=10, p=0.5)\")\n",
        "plt.xlabel(\"Number of Successes\")\n",
        "plt.ylabel(\"Frequency\")\n",
        "plt.show()\n"
      ],
      "metadata": {
        "colab": {
          "base_uri": "https://localhost:8080/",
          "height": 472
        },
        "id": "ErespU1mkz7R",
        "outputId": "78b23145-46ff-4b4e-9a7e-e47b0cf16ada"
      },
      "execution_count": 1,
      "outputs": [
        {
          "output_type": "display_data",
          "data": {
            "text/plain": [
              "<Figure size 640x480 with 1 Axes>"
            ],
            "image/png": "[encoded data removed]"
          },
          "metadata": {}
        }
      ]
    },
    {
      "cell_type": "markdown",
      "source": [
        "Question 7: Implement hypothesis testing using Z-statistics for a sample dataset in\n",
        "Python. Show the Python code and interpret the results.\n",
        "sample_data = [49.1, 50.2, 51.0, 48.7, 50.5, 49.8, 50.3, 50.7, 50.2, 49.6,\n",
        "50.1, 49.9, 50.8, 50.4, 48.9, 50.6, 50.0, 49.7, 50.2, 49.5,\n",
        "50.1, 50.3, 50.4, 50.5, 50.0, 50.7, 49.3, 49.8, 50.2, 50.9,\n",
        "50.3, 50.4, 50.0, 49.7, 50.5, 49.9]"
      ],
      "metadata": {
        "id": "N-bAu4rMoiKm"
      }
    },
    {
      "cell_type": "code",
      "source": [
        "import numpy as np\n",
        "from scipy import stats\n",
        "\n",
        "# Sample data\n",
        "sample_data = [49.1, 50.2, 51.0, 48.7, 50.5, 49.8, 50.3, 50.7, 50.2, 49.6,\n",
        "               50.1, 49.9, 50.8, 50.4, 48.9, 50.6, 50.0, 49.7, 50.2, 49.5,\n",
        "               50.1, 50.3, 50.4, 50.5, 50.0, 50.7, 49.3, 49.8, 50.2, 50.9,\n",
        "               50.3, 50.4, 50.0, 49.7, 50.5, 49.9]\n",
        "\n",
        "# Known population mean (H0: mu = 50)\n",
        "population_mean = 50\n",
        "\n",
        "# Standard deviation of the population (if unknown, use sample std)\n",
        "sample_std = np.std(sample_data, ddof=1)\n",
        "n = len(sample_data)\n",
        "sample_mean = np.mean(sample_data)\n",
        "\n",
        "# Calculate Z-statistic\n",
        "z_stat = (sample_mean - population_mean) / (sample_std / np.sqrt(n))\n",
        "\n",
        "# Two-tailed test: calculate p-value\n",
        "p_value = 2 * (1 - stats.norm.cdf(abs(z_stat)))\n",
        "\n",
        "print(\"Sample Mean:\", round(sample_mean, 3))\n",
        "print(\"Sample Std Dev:\", round(sample_std, 3))\n",
        "print(\"Z-Statistic:\", round(z_stat, 3))\n",
        "print(\"P-Value:\", round(p_value, 4))\n",
        "\n",
        "# Interpretation\n",
        "alpha = 0.05  # significance level\n",
        "if p_value < alpha:\n",
        "    print(\"Reject the null hypothesis (H0).\")\n",
        "else:\n",
        "    print(\"Fail to reject the null hypothesis (H0).\")\n"
      ],
      "metadata": {
        "colab": {
          "base_uri": "https://localhost:8080/"
        },
        "id": "gk_FaCc-oYGv",
        "outputId": "a8e83753-4696-45f2-d31c-df3bd9aac2cc"
      },
      "execution_count": 2,
      "outputs": [
        {
          "output_type": "stream",
          "name": "stdout",
          "text": [
            "Sample Mean: 50.089\n",
            "Sample Std Dev: 0.537\n",
            "Z-Statistic: 0.994\n",
            "P-Value: 0.3202\n",
            "Fail to reject the null hypothesis (H0).\n"
          ]
        }
      ]
    },
    {
      "cell_type": "markdown",
      "source": [
        "Question 8: Write a Python script to simulate data from a normal distribution and Iculate the 95% confidence interval for its mean. Plot the data using Matplotlib."
      ],
      "metadata": {
        "id": "9CHSTdEjo4-A"
      }
    },
    {
      "cell_type": "code",
      "source": [
        "import numpy as np\n",
        "import matplotlib.pyplot as plt\n",
        "from scipy import stats\n",
        "\n",
        "# Simulate data from a normal distribution\n",
        "np.random.seed(42)  # For reproducibility\n",
        "mu = 50           # True mean\n",
        "sigma = 5         # Standard deviation\n",
        "n = 100           # Sample size\n",
        "\n",
        "data = np.random.normal(mu, sigma, n)\n",
        "\n",
        "# Calculate sample mean and standard error\n",
        "sample_mean = np.mean(data)\n",
        "sample_std = np.std(data, ddof=1)  # Sample standard deviation\n",
        "se = sample_std / np.sqrt(n)       # Standard error\n",
        "\n",
        "# Calculate 95% confidence interval\n",
        "confidence_level = 0.95\n",
        "z_score = stats.norm.ppf(1 - (1 - confidence_level) / 2)\n",
        "ci_lower = sample_mean - z_score * se\n",
        "ci_upper = sample_mean + z_score * se\n",
        "\n",
        "print(\"Sample Mean:\", round(sample_mean, 3))\n",
        "print(\"95% Confidence Interval: ({:.3f}, {:.3f})\".format(ci_lower, ci_upper))\n",
        "\n",
        "# Plot the data\n",
        "plt.figure(figsize=(10,6))\n",
        "plt.hist(data, bins=15, color='skyblue', edgecolor='black', alpha=0.7)\n",
        "plt.axvline(sample_mean, color='red', linestyle='dashed', linewidth=2, label='Sample Mean')\n",
        "plt.axvline(ci_lower, color='green', linestyle='dashed', linewidth=2, label='95% CI Lower')\n",
        "plt.axvline(ci_upper, color='green', linestyle='dashed', linewidth=2, label='95% CI Upper')\n",
        "plt.title('Histogram of Simulated Normal Data')\n",
        "plt.xlabel('Value')\n",
        "plt.ylabel('Frequency')\n",
        "plt.legend()\n",
        "plt.show()\n"
      ],
      "metadata": {
        "colab": {
          "base_uri": "https://localhost:8080/",
          "height": 600
        },
        "id": "5BmvQfZuosvZ",
        "outputId": "1a2133e1-34b7-46fb-a751-9bb8e43a7308"
      },
      "execution_count": 3,
      "outputs": [
        {
          "output_type": "stream",
          "name": "stdout",
          "text": [
            "Sample Mean: 49.481\n",
            "95% Confidence Interval: (48.591, 50.371)\n"
          ]
        },
        {
          "output_type": "display_data",
          "data": {
            "text/plain": [
              "<Figure size 1000x600 with 1 Axes>"
            ],
            "image/png": "[encoded data removed]"
          },
          "metadata": {}
        }
      ]
    },
    {
      "cell_type": "markdown",
      "source": [
        "Question 9: Write a Python function to calculate the Z-scores from a dataset and visualize the standardized data using a histogram. Explain what the Z-scores represent in terms of standard deviations from the mean."
      ],
      "metadata": {
        "id": "BOgRmATHpLi3"
      }
    },
    {
      "cell_type": "code",
      "source": [
        "import numpy as np\n",
        "import matplotlib.pyplot as plt\n",
        "\n",
        "def calculate_z_scores(data):\n",
        "    \"\"\"\n",
        "    Calculate Z-scores for a given dataset.\n",
        "\n",
        "    Z-score formula: Z = (x - mean) / standard deviation\n",
        "    \"\"\"\n",
        "    mean = np.mean(data)\n",
        "    std = np.std(data, ddof=1)  # Sample standard deviation\n",
        "    z_scores = (data - mean) / std\n",
        "    return z_scores\n",
        "\n",
        "# Example dataset\n",
        "data = [49.1, 50.2, 51.0, 48.7, 50.5, 49.8, 50.3, 50.7, 50.2, 49.6,\n",
        "        50.1, 49.9, 50.8, 50.4, 48.9, 50.6, 50.0, 49.7, 50.2, 49.5]\n",
        "\n",
        "# Calculate Z-scores\n",
        "z_scores = calculate_z_scores(np.array(data))\n",
        "print(\"Z-scores:\\n\", np.round(z_scores, 3))\n",
        "\n",
        "# Plot histogram of Z-scores\n",
        "plt.figure(figsize=(10,6))\n",
        "plt.hist(z_scores, bins=10, color='lightcoral', edgecolor='black', alpha=0.7)\n",
        "plt.axvline(0, color='blue', linestyle='dashed', linewidth=2, label='Mean (Z=0)')\n",
        "plt.title('Histogram of Z-Scores')\n",
        "plt.xlabel('Z-Score')\n",
        "plt.ylabel('Frequency')\n",
        "plt.legend()\n",
        "plt.show()\n",
        "\n",
        "\n",
        "\n",
        "# Explanation\n",
        "\n",
        "# Z-score Calculation:\n",
        "\n",
        "# Formula:\n",
        "# 𝑍\n",
        "# =\n",
        "# 𝑋\n",
        "# −\n",
        "# 𝜇\n",
        "# 𝜎\n",
        "# Z=\n",
        "# σ\n",
        "# X−μ\n",
        "# \t​\n",
        "\n",
        "\n",
        "# 𝑋\n",
        "# X = individual data point\n",
        "\n",
        "# 𝜇\n",
        "# μ = mean of the dataset\n",
        "\n",
        "# 𝜎\n",
        "# σ = standard deviation of the dataset\n",
        "\n",
        "# Z-scores standardize the data, converting it into units of standard deviations from the mean.\n",
        "\n",
        "# Interpretation of Z-scores:\n",
        "\n",
        "# Z = 0 → The data point is exactly at the mean.\n",
        "\n",
        "# Z > 0 → The data point is above the mean.\n",
        "\n",
        "# Z < 0 → The data point is below the mean.\n",
        "\n",
        "# Z = 1 → The data point is 1 standard deviation above the mean.\n",
        "\n",
        "# Z = -2 → The data point is 2 standard deviations below the mean.\n",
        "\n",
        "# Visualization:\n",
        "\n",
        "# Histogram shows the distribution of Z-scores.\n",
        "\n",
        "# The blue dashed line at Z = 0 represents the mean.\n",
        "\n",
        "# Most values should lie within -3 to 3 if the data is approximately normal."
      ],
      "metadata": {
        "colab": {
          "base_uri": "https://localhost:8080/",
          "height": 618
        },
        "id": "aQNPbGtNpCKB",
        "outputId": "af7dd068-5aa7-49e5-c32e-2ab46770c720"
      },
      "execution_count": 4,
      "outputs": [
        {
          "output_type": "stream",
          "name": "stdout",
          "text": [
            "Z-scores:\n",
            " [-1.46   0.305  1.589 -2.102  0.786 -0.337  0.465  1.107  0.305 -0.658\n",
            "  0.144 -0.177  1.268  0.626 -1.781  0.947 -0.016 -0.497  0.305 -0.818]\n"
          ]
        },
        {
          "output_type": "display_data",
          "data": {
            "text/plain": [
              "<Figure size 1000x600 with 1 Axes>"
            ],
            "image/png": "[encoded data removed]"
          },
          "metadata": {}
        }
      ]
    },
    {
      "cell_type": "code",
      "source": [],
      "metadata": {
        "id": "Q1v7V6IdpjqN"
      },
      "execution_count": null,
      "outputs": []
    }
  ]
}